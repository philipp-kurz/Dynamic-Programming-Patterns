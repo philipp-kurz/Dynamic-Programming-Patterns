{
 "cells": [
  {
   "cell_type": "code",
   "execution_count": 6,
   "id": "derived-brave",
   "metadata": {},
   "outputs": [],
   "source": [
    "from typing import List"
   ]
  },
  {
   "cell_type": "markdown",
   "id": "civic-efficiency",
   "metadata": {
    "toc-hr-collapsed": true
   },
   "source": [
    "# Dynamic Programming Problem Patterns"
   ]
  },
  {
   "cell_type": "markdown",
   "id": "aging-statement",
   "metadata": {
    "heading_collapsed": "true",
    "toc-hr-collapsed": true
   },
   "source": [
    "## Longest Increasing Subsequence"
   ]
  },
  {
   "cell_type": "markdown",
   "id": "present-poster",
   "metadata": {},
   "source": [
    "Given an integer array `nums`, return the length of the longest strictly increasing subsequence.\n",
    "\n",
    "For instance, the longest increasing subsequence of `5, 2, 8, 6, 3, 6, 9, 7` is `2, 3, 6, 9`."
   ]
  },
  {
   "cell_type": "code",
   "execution_count": 12,
   "id": "active-natural",
   "metadata": {},
   "outputs": [
    {
     "name": "stdout",
     "output_type": "stream",
     "text": [
      "Longest Increasing Subsequence: 0\n"
     ]
    }
   ],
   "source": [
    "def lis(seq: List[int]) -> int:\n",
    "    return 0\n",
    "\n",
    "seq = [5, 2, 8, 6, 3, 6, 9, 7]\n",
    "\n",
    "print(f\"Longest Increasing Subsequence: {lis(seq)}\")"
   ]
  },
  {
   "cell_type": "markdown",
   "id": "interim-blond",
   "metadata": {
    "heading_collapsed": "true"
   },
   "source": [
    "### Recurrence Relation"
   ]
  },
  {
   "cell_type": "markdown",
   "id": "preliminary-encoding",
   "metadata": {
    "hidden": true
   },
   "source": [
    "$f(i)$ is the longest increasing subsequence of the input ending in index $i$.\n",
    "\n",
    "$\n",
    "\\begin{align}\n",
    "f(i) = 1 + max \\left[ f(j) \\text{ for } j < i \\text{ and } nums[j] < nums[i] \\right]\n",
    "\\end{align}\n",
    "$\n",
    "\n",
    "For each end position, either start new subsequence or extend old one that ends with smaller number."
   ]
  },
  {
   "cell_type": "markdown",
   "id": "retired-august",
   "metadata": {
    "heading_collapsed": "true"
   },
   "source": [
    "### Code"
   ]
  },
  {
   "cell_type": "code",
   "execution_count": 13,
   "id": "welsh-scanning",
   "metadata": {
    "hidden": true
   },
   "outputs": [
    {
     "name": "stdout",
     "output_type": "stream",
     "text": [
      "Longest Increasing Subsequence: 4\n"
     ]
    }
   ],
   "source": [
    "def lis(seq: List[int]) -> int:\n",
    "    dp = [1 for i in range(len(seq))]\n",
    "    \n",
    "    for i in range(len(seq)):\n",
    "        for j in range(i):            \n",
    "            if seq[j] < seq[i]:\n",
    "                dp[i] = max(dp[i], 1 + dp[j])\n",
    "                \n",
    "    return dp[-1]\n",
    "\n",
    "seq = [5, 2, 8, 6, 3, 6, 9, 7]\n",
    "\n",
    "print(f\"Longest Increasing Subsequence: {lis(seq)}\")"
   ]
  },
  {
   "cell_type": "markdown",
   "id": "native-nicholas",
   "metadata": {
    "heading_collapsed": "true",
    "toc-hr-collapsed": true
   },
   "source": [
    "## Minimum Edit Distance (Levenshtein Distance)"
   ]
  },
  {
   "cell_type": "markdown",
   "id": "julian-malaysia",
   "metadata": {},
   "source": [
    "Given two strings `str1` and `str2` and below operations that can performed on `str1`.  \n",
    "Find minimum number of edits (operations) required to convert `str1` into `str2`.\n",
    "\n",
    "For instance, the minimum edit distance for the two strings `SNOWY` and `SUNNY` is 3: insert `U`, substitute `O` for `N`, and delete `W`."
   ]
  },
  {
   "cell_type": "code",
   "execution_count": 14,
   "id": "editorial-shopper",
   "metadata": {},
   "outputs": [
    {
     "name": "stdout",
     "output_type": "stream",
     "text": [
      "Minimum Edit Distance: 0\n"
     ]
    }
   ],
   "source": [
    "def med(str1: str, str2: str) -> int:\n",
    "    return 0\n",
    "\n",
    "str1, str2 = 'SNOWY', 'SUNNY'\n",
    "\n",
    "print(f\"Minimum Edit Distance: {med(str1, str2)}\")"
   ]
  },
  {
   "cell_type": "markdown",
   "id": "mediterranean-england",
   "metadata": {
    "heading_collapsed": "true"
   },
   "source": [
    "### Recurrence Relation"
   ]
  },
  {
   "cell_type": "markdown",
   "id": "atmospheric-gross",
   "metadata": {
    "hidden": true
   },
   "source": [
    "$f(i,j)$ is the minimum number of edits to turn the prefix of str1 with length i into the prefix of str2 of length j,  \n",
    "i.e. to turn `str1[0...i-1]` into `str2[0...j-1]`.\n",
    "\n",
    "\n",
    "$\n",
    "\\begin{align}\n",
    "f(i, j) = \n",
    "\\begin{cases}\n",
    "0, \\text{ if } i = 0 \\text{ and } j = 0 \\\\\n",
    "1 + f(0, j-1), \\text{ if } i = 0 \\\\\n",
    "1 + f(i-1, 0), \\text{ if } j = 0 \\\\\n",
    "f(i-1,j-1), \\text{ if } str1[i-1] = str2[j-1] \\\\\n",
    "1 + min\\left[f(i-1, j-1), f(i-1, j), f(i, j-1)\\right], else\n",
    "\\end{cases}\n",
    "\\end{align}\n",
    "$\n",
    "\n",
    "$f(i-1,j-1)$ corresponds to replacing `str1[i]` with `str2[i]`.  \n",
    "$f(i-1,j)$ corresponds to removing `str1[i]`, i.e. skipping that letter and adding 1 to the cost.  \n",
    "$f(i,j-1)$ corresponds to inserting `str2[j]`, i.e. skipping that letter and adding 1 to the cost."
   ]
  },
  {
   "cell_type": "markdown",
   "id": "distinct-finnish",
   "metadata": {
    "heading_collapsed": "true"
   },
   "source": [
    "### Code"
   ]
  },
  {
   "cell_type": "code",
   "execution_count": 21,
   "id": "orange-appliance",
   "metadata": {
    "hidden": true
   },
   "outputs": [
    {
     "name": "stdout",
     "output_type": "stream",
     "text": [
      "      S  U  N  N  Y  \n",
      "  [0, 1, 2, 3, 4, 5]\n",
      "S [1, 0, 1, 2, 3, 4]\n",
      "N [2, 1, 1, 1, 2, 3]\n",
      "O [3, 2, 2, 2, 2, 3]\n",
      "W [4, 3, 3, 3, 3, 3]\n",
      "Y [5, 4, 4, 4, 4, 3]\n",
      "\n",
      "Minimum Edit Distance: 3\n"
     ]
    }
   ],
   "source": [
    "# Helper function for printing\n",
    "def print_dp(str1, str2, dp):\n",
    "    print(\"   \", end=\"\")\n",
    "    for l in (\" \" + str2):\n",
    "        print(f\"{l}  \", end=\"\")\n",
    "    print()\n",
    "    for i, row in enumerate(dp):\n",
    "        print(f\"{str1[i-1]} \" if i > 0 else \"  \", end=\"\")\n",
    "        print(row)\n",
    "    print()\n",
    "\n",
    "    \n",
    "def med(str1: str, str2: str) -> int:\n",
    "    \n",
    "    # Initialize empty DP table\n",
    "    dp = [[0 for j in range(len(str2) + 1)] for i in range(len(str1) + 1)]\n",
    "    \n",
    "    # Base cases\n",
    "    for i in range(1, len(str1) + 1):\n",
    "        dp[i][0] = i\n",
    "    for j in range(1, len(str2) + 1):\n",
    "        dp[0][j] = j\n",
    "    \n",
    "    # Actual assignment\n",
    "    for i in range(1, len(str1) + 1):\n",
    "        for j in range(1, len(str2) + 1):\n",
    "            if str1[i-1] == str2[j-1]:\n",
    "                dp[i][j] = dp[i-1][j-1]\n",
    "            else:\n",
    "                dp[i][j] = 1 + min(dp[i-1][j-1], dp[i-1][j], dp[i][j-1])\n",
    "    \n",
    "    # Visualization\n",
    "    print_dp(str1, str2, dp)\n",
    "    \n",
    "    return dp[len(str1)][len(str2)]\n",
    "\n",
    "str1, str2 = 'SNOWY', 'SUNNY'\n",
    "\n",
    "print(f\"Minimum Edit Distance: {med(str1, str2)}\")\n",
    "\n"
   ]
  },
  {
   "cell_type": "code",
   "execution_count": null,
   "id": "referenced-warrior",
   "metadata": {},
   "outputs": [],
   "source": []
  }
 ],
 "metadata": {
  "kernelspec": {
   "display_name": "Python 3",
   "language": "python",
   "name": "python3"
  },
  "language_info": {
   "codemirror_mode": {
    "name": "ipython",
    "version": 3
   },
   "file_extension": ".py",
   "mimetype": "text/x-python",
   "name": "python",
   "nbconvert_exporter": "python",
   "pygments_lexer": "ipython3",
   "version": "3.7.10"
  },
  "toc-autonumbering": false,
  "toc-showcode": true,
  "toc-showmarkdowntxt": true
 },
 "nbformat": 4,
 "nbformat_minor": 5
}
