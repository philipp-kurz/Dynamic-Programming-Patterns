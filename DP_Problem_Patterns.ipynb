{
 "cells": [
  {
   "cell_type": "code",
   "execution_count": 2,
   "id": "removable-contamination",
   "metadata": {},
   "outputs": [],
   "source": [
    "from typing import List"
   ]
  },
  {
   "cell_type": "markdown",
   "id": "compatible-philadelphia",
   "metadata": {
    "toc-hr-collapsed": true
   },
   "source": [
    "# Dynamic Programming Problem Patterns"
   ]
  },
  {
   "cell_type": "markdown",
   "id": "deluxe-pharmacology",
   "metadata": {
    "toc-hr-collapsed": true
   },
   "source": [
    "## <u>Longest Increasing Subsequence</u>"
   ]
  },
  {
   "cell_type": "markdown",
   "id": "abandoned-modification",
   "metadata": {},
   "source": [
    "Given an integer array `nums`, return the length of the longest strictly increasing subsequence.\n",
    "\n",
    "For instance, the longest increasing subsequence of `5, 2, 8, 6, 3, 6, 9, 7` is `2, 3, 6, 9`."
   ]
  },
  {
   "cell_type": "markdown",
   "id": "conventional-trainer",
   "metadata": {},
   "source": [
    "### Recurrence Relation"
   ]
  },
  {
   "cell_type": "markdown",
   "id": "sticky-korean",
   "metadata": {
    "hidden": true
   },
   "source": [
    "$f(i)$ is the longest increasing subsequence of the input ending in index $i$.\n",
    "\n",
    "$$\n",
    "f(i) = max\\left[1, 1 + max( f(j) \\text{ for } j < i \\text{ and } nums[j] < nums[i]\\right]\n",
    "$$"
   ]
  },
  {
   "cell_type": "markdown",
   "id": "distinguished-migration",
   "metadata": {},
   "source": [
    "### Code"
   ]
  },
  {
   "cell_type": "code",
   "execution_count": 9,
   "id": "korean-rebecca",
   "metadata": {},
   "outputs": [],
   "source": [
    "def add(a, b):\n",
    "    res = a + b\n",
    "    return res"
   ]
  },
  {
   "cell_type": "code",
   "execution_count": 11,
   "id": "through-musical",
   "metadata": {},
   "outputs": [
    {
     "name": "stdout",
     "output_type": "stream",
     "text": [
      "3\n"
     ]
    }
   ],
   "source": [
    "result = add(1, 2)\n",
    "print(result)"
   ]
  },
  {
   "cell_type": "code",
   "execution_count": 12,
   "id": "floating-threat",
   "metadata": {
    "hidden": true
   },
   "outputs": [
    {
     "name": "stdout",
     "output_type": "stream",
     "text": [
      "None\n"
     ]
    }
   ],
   "source": [
    "seq = [5, 2, 8, 6, 3, 6, 9, 7]\n",
    "\n",
    "def lis(seq: List[int]) -> List[int]:\n",
    "    dp = [0 for i in range(len(seq))]\n",
    "    \n",
    "\n",
    "print(lis(seq))"
   ]
  },
  {
   "cell_type": "markdown",
   "id": "heavy-newfoundland",
   "metadata": {},
   "source": [
    "$$\n",
    "f(i)=\n",
    "\\begin{cases}\n",
    ",\\\\\n",
    "x(n-1)\\\\\n",
    "x(n-1)\n",
    "\\end{cases}\n",
    "$$"
   ]
  },
  {
   "cell_type": "code",
   "execution_count": null,
   "id": "southwest-month",
   "metadata": {},
   "outputs": [],
   "source": []
  }
 ],
 "metadata": {
  "kernelspec": {
   "display_name": "Python 3.7 (XPython)",
   "language": "python",
   "name": "xpython"
  },
  "language_info": {
   "file_extension": ".py",
   "mimetype": "text/x-python",
   "name": "python",
   "version": "3.7.10"
  }
 },
 "nbformat": 4,
 "nbformat_minor": 5
}
