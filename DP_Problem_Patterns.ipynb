{
 "cells": [
  {
   "cell_type": "markdown",
   "id": "needed-timeline",
   "metadata": {},
   "source": [
    "# Dynamic Programming Problem Patterns"
   ]
  },
  {
   "cell_type": "code",
   "execution_count": 2,
   "id": "hispanic-miller",
   "metadata": {},
   "outputs": [
    {
     "name": "stdout",
     "output_type": "stream",
     "text": [
      "Hello World!\n"
     ]
    }
   ],
   "source": [
    "print('Hello World!')"
   ]
  },
  {
   "cell_type": "markdown",
   "id": "handmade-religion",
   "metadata": {},
   "source": [
    "<details>\n",
    "  <summary>Spoiler warning</summary>\n",
    "  \n",
    "  Spoiler text. Note that it's important to have a space after the summary tag. You should be able to write any markdown you want inside the `<details>` tag... just make sure you close `<details>` afterward.\n",
    "  \n",
    "  ```javascript\n",
    "  console.log(\"I'm a code block!\");\n",
    "  ```\n",
    "  \n",
    "</details>"
   ]
  },
  {
   "cell_type": "code",
   "execution_count": null,
   "id": "historical-latitude",
   "metadata": {},
   "outputs": [],
   "source": []
  }
 ],
 "metadata": {
  "kernelspec": {
   "display_name": "Python 3",
   "language": "python",
   "name": "python3"
  },
  "language_info": {
   "codemirror_mode": {
    "name": "ipython",
    "version": 3
   },
   "file_extension": ".py",
   "mimetype": "text/x-python",
   "name": "python",
   "nbconvert_exporter": "python",
   "pygments_lexer": "ipython3",
   "version": "3.7.10"
  }
 },
 "nbformat": 4,
 "nbformat_minor": 5
}
