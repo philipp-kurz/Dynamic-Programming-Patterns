{
 "cells": [
  {
   "cell_type": "code",
   "execution_count": 2,
   "id": "amateur-scroll",
   "metadata": {
    "jupyter": {
     "source_hidden": true
    }
   },
   "outputs": [],
   "source": [
    "from typing import List"
   ]
  },
  {
   "cell_type": "markdown",
   "id": "greatest-tiger",
   "metadata": {
    "toc-hr-collapsed": true
   },
   "source": [
    "# Dynamic Programming Problem Patterns"
   ]
  },
  {
   "cell_type": "markdown",
   "id": "exceptional-wagon",
   "metadata": {
    "toc-hr-collapsed": true
   },
   "source": [
    "## <u>Longest Increasing Subsequence</u>"
   ]
  },
  {
   "cell_type": "markdown",
   "id": "systematic-jurisdiction",
   "metadata": {},
   "source": [
    "Given an integer array `nums`, return the length of the longest strictly increasing subsequence.\n",
    "\n",
    "For instance, the longest increasing subsequence of `5, 2, 8, 6, 3, 6, 9, 7` is `2, 3, 6, 9`."
   ]
  },
  {
   "cell_type": "markdown",
   "id": "cross-kinase",
   "metadata": {},
   "source": [
    "### Recurrence Relation"
   ]
  },
  {
   "cell_type": "markdown",
   "id": "dried-glass",
   "metadata": {
    "hidden": true
   },
   "source": [
    "$f(i)$ is the longest increasing subsequence of the input ending in index $i$.\n",
    "\n",
    "$$\n",
    "f(i) = max\\left[1, 1 + max( f(j) \\text{ for } j < i \\text{ and } nums[j] < nums[i]\\right]\n",
    "$$"
   ]
  },
  {
   "cell_type": "markdown",
   "id": "consistent-holmes",
   "metadata": {},
   "source": [
    "### Code"
   ]
  },
  {
   "cell_type": "code",
   "execution_count": 4,
   "id": "grave-topic",
   "metadata": {
    "hidden": true
   },
   "outputs": [
    {
     "name": "stdout",
     "output_type": "stream",
     "text": [
      "None\n"
     ]
    }
   ],
   "source": [
    "seq = [5, 2, 8, 6, 3, 6, 9, 7]\n",
    "\n",
    "def lis(seq: List[int]) -> List[int]:\n",
    "    dp = [0 for i in range(len(seq))]\n",
    "    \n",
    "\n",
    "print(lis(seq))"
   ]
  },
  {
   "cell_type": "markdown",
   "id": "corresponding-atlanta",
   "metadata": {},
   "source": [
    "$$\n",
    "f(i)=\n",
    "\\begin{cases}\n",
    ",\\\\\n",
    "x(n-1)\\\\\n",
    "x(n-1)\n",
    "\\end{cases}\n",
    "$$"
   ]
  },
  {
   "cell_type": "code",
   "execution_count": null,
   "id": "fabulous-senator",
   "metadata": {},
   "outputs": [],
   "source": []
  }
 ],
 "metadata": {
  "kernelspec": {
   "display_name": "Python 3",
   "language": "python",
   "name": "python3"
  },
  "language_info": {
   "codemirror_mode": {
    "name": "ipython",
    "version": 3
   },
   "file_extension": ".py",
   "mimetype": "text/x-python",
   "name": "python",
   "nbconvert_exporter": "python",
   "pygments_lexer": "ipython3",
   "version": "3.7.10"
  }
 },
 "nbformat": 4,
 "nbformat_minor": 5
}
