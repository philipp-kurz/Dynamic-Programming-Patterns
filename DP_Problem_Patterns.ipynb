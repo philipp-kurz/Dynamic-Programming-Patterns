{
 "cells": [
  {
   "cell_type": "code",
   "execution_count": 2,
   "id": "collect-israeli",
   "metadata": {},
   "outputs": [],
   "source": [
    "from typing import List, Dict"
   ]
  },
  {
   "cell_type": "markdown",
   "id": "cheap-tender",
   "metadata": {
    "toc-hr-collapsed": true
   },
   "source": [
    "# Dynamic Programming Problem Patterns"
   ]
  },
  {
   "cell_type": "markdown",
   "id": "young-correction",
   "metadata": {
    "heading_collapsed": "true",
    "toc-hr-collapsed": true
   },
   "source": [
    "## Longest Increasing Subsequence"
   ]
  },
  {
   "cell_type": "markdown",
   "id": "brilliant-glass",
   "metadata": {},
   "source": [
    "Given an integer array `nums`, return the length of the longest strictly increasing subsequence.\n",
    "\n",
    "For instance, the longest increasing subsequence of `5, 2, 8, 6, 3, 6, 9, 7` is `2, 3, 6, 9`."
   ]
  },
  {
   "cell_type": "code",
   "execution_count": 12,
   "id": "hungry-hometown",
   "metadata": {},
   "outputs": [
    {
     "name": "stdout",
     "output_type": "stream",
     "text": [
      "Longest Increasing Subsequence: 0\n"
     ]
    }
   ],
   "source": [
    "def lis(seq: List[int]) -> int:\n",
    "    return 0\n",
    "\n",
    "seq = [5, 2, 8, 6, 3, 6, 9, 7]\n",
    "\n",
    "print(f\"Longest Increasing Subsequence: {lis(seq)}\")"
   ]
  },
  {
   "cell_type": "markdown",
   "id": "distributed-accident",
   "metadata": {
    "heading_collapsed": "true"
   },
   "source": [
    "### Recurrence Relation"
   ]
  },
  {
   "cell_type": "markdown",
   "id": "spare-leadership",
   "metadata": {
    "hidden": true
   },
   "source": [
    "$f(i)$ is the longest increasing subsequence of the input ending in index $i$.\n",
    "\n",
    "$\n",
    "\\begin{align}\n",
    "f(i) = 1 + max \\left[ f(j) \\text{ for } j < i \\text{ and } nums[j] < nums[i] \\right]\n",
    "\\end{align}\n",
    "$\n",
    "\n",
    "For each end position, either start new subsequence or extend old one that ends with smaller number."
   ]
  },
  {
   "cell_type": "markdown",
   "id": "little-pattern",
   "metadata": {
    "heading_collapsed": "true"
   },
   "source": [
    "### Code"
   ]
  },
  {
   "cell_type": "code",
   "execution_count": 13,
   "id": "coupled-yesterday",
   "metadata": {
    "hidden": true
   },
   "outputs": [
    {
     "name": "stdout",
     "output_type": "stream",
     "text": [
      "Longest Increasing Subsequence: 4\n"
     ]
    }
   ],
   "source": [
    "def lis(seq: List[int]) -> int:\n",
    "    dp = [1 for i in range(len(seq))]\n",
    "    \n",
    "    for i in range(len(seq)):\n",
    "        for j in range(i):            \n",
    "            if seq[j] < seq[i]:\n",
    "                dp[i] = max(dp[i], 1 + dp[j])\n",
    "                \n",
    "    return dp[-1]\n",
    "\n",
    "seq = [5, 2, 8, 6, 3, 6, 9, 7]\n",
    "\n",
    "print(f\"Longest Increasing Subsequence: {lis(seq)}\")"
   ]
  },
  {
   "cell_type": "markdown",
   "id": "associate-logging",
   "metadata": {
    "heading_collapsed": "true"
   },
   "source": [
    "### Complexity"
   ]
  },
  {
   "cell_type": "markdown",
   "id": "engaged-crossing",
   "metadata": {
    "hidden": true
   },
   "source": [
    "Runtime:  \n",
    "$O(n^2)$, because for each position of the array, we iterate over all previous position.\n",
    "\n",
    "Space:  \n",
    "$O(n)$, because we need to store the results of each previous iteration."
   ]
  },
  {
   "cell_type": "markdown",
   "id": "square-architect",
   "metadata": {
    "heading_collapsed": "true",
    "toc-hr-collapsed": true
   },
   "source": [
    "## Minimum Edit Distance (Levenshtein Distance)"
   ]
  },
  {
   "cell_type": "markdown",
   "id": "described-blind",
   "metadata": {},
   "source": [
    "Given two strings `str1` and `str2` and below operations that can performed on `str1`.  \n",
    "Find minimum number of edits (operations) required to convert `str1` into `str2`.\n",
    "\n",
    "For instance, the minimum edit distance for the two strings `SNOWY` and `SUNNY` is 3: insert `U`, substitute `O` for `N`, and delete `W`."
   ]
  },
  {
   "cell_type": "code",
   "execution_count": 14,
   "id": "north-dietary",
   "metadata": {},
   "outputs": [
    {
     "name": "stdout",
     "output_type": "stream",
     "text": [
      "Minimum Edit Distance: 0\n"
     ]
    }
   ],
   "source": [
    "def med(str1: str, str2: str) -> int:\n",
    "    return 0\n",
    "\n",
    "str1, str2 = 'SNOWY', 'SUNNY'\n",
    "\n",
    "print(f\"Minimum Edit Distance: {med(str1, str2)}\")"
   ]
  },
  {
   "cell_type": "markdown",
   "id": "gothic-navigation",
   "metadata": {
    "heading_collapsed": "true"
   },
   "source": [
    "### Recurrence Relation"
   ]
  },
  {
   "cell_type": "markdown",
   "id": "local-feature",
   "metadata": {
    "hidden": true
   },
   "source": [
    "$f(i,j)$ is the minimum number of edits to turn the prefix of str1 with length i into the prefix of str2 of length j,  \n",
    "i.e. to turn `str1[0...i-1]` into `str2[0...j-1]`.\n",
    "\n",
    "\n",
    "$\n",
    "\\begin{align}\n",
    "f(i, j) = \n",
    "\\begin{cases}\n",
    "0, \\text{ if } i = 0 \\text{ and } j = 0 \\\\\n",
    "1 + f(0, j-1), \\text{ if } i = 0 \\\\\n",
    "1 + f(i-1, 0), \\text{ if } j = 0 \\\\\n",
    "f(i-1,j-1), \\text{ if } str1[i-1] = str2[j-1] \\\\\n",
    "1 + min\\left[f(i-1, j-1), f(i-1, j), f(i, j-1)\\right], else\n",
    "\\end{cases}\n",
    "\\end{align}\n",
    "$\n",
    "\n",
    "$f(i-1,j-1)$ corresponds to replacing `str1[i]` with `str2[i]`.  \n",
    "$f(i-1,j)$ corresponds to removing `str1[i]`, i.e. skipping that letter and adding 1 to the cost.  \n",
    "$f(i,j-1)$ corresponds to inserting `str2[j]`, i.e. skipping that letter and adding 1 to the cost."
   ]
  },
  {
   "cell_type": "markdown",
   "id": "proprietary-handling",
   "metadata": {
    "heading_collapsed": "true"
   },
   "source": [
    "### Code"
   ]
  },
  {
   "cell_type": "code",
   "execution_count": 21,
   "id": "accredited-stage",
   "metadata": {
    "hidden": true
   },
   "outputs": [
    {
     "name": "stdout",
     "output_type": "stream",
     "text": [
      "      S  U  N  N  Y  \n",
      "  [0, 1, 2, 3, 4, 5]\n",
      "S [1, 0, 1, 2, 3, 4]\n",
      "N [2, 1, 1, 1, 2, 3]\n",
      "O [3, 2, 2, 2, 2, 3]\n",
      "W [4, 3, 3, 3, 3, 3]\n",
      "Y [5, 4, 4, 4, 4, 3]\n",
      "\n",
      "Minimum Edit Distance: 3\n"
     ]
    }
   ],
   "source": [
    "# Helper function for printing\n",
    "def print_dp(str1, str2, dp):\n",
    "    print(\"   \", end=\"\")\n",
    "    for l in (\" \" + str2):\n",
    "        print(f\"{l}  \", end=\"\")\n",
    "    print()\n",
    "    for i, row in enumerate(dp):\n",
    "        print(f\"{str1[i-1]} \" if i > 0 else \"  \", end=\"\")\n",
    "        print(row)\n",
    "    print()\n",
    "\n",
    "    \n",
    "def med(str1: str, str2: str) -> int:\n",
    "    \n",
    "    # Initialize empty DP table\n",
    "    dp = [[0 for j in range(len(str2) + 1)] for i in range(len(str1) + 1)]\n",
    "    \n",
    "    # Base cases\n",
    "    for i in range(1, len(str1) + 1):\n",
    "        dp[i][0] = i\n",
    "    for j in range(1, len(str2) + 1):\n",
    "        dp[0][j] = j\n",
    "    \n",
    "    # Actual assignment\n",
    "    for i in range(1, len(str1) + 1):\n",
    "        for j in range(1, len(str2) + 1):\n",
    "            if str1[i-1] == str2[j-1]:\n",
    "                dp[i][j] = dp[i-1][j-1]\n",
    "            else:\n",
    "                dp[i][j] = 1 + min(dp[i-1][j-1], dp[i-1][j], dp[i][j-1])\n",
    "    \n",
    "    # Visualization\n",
    "    print_dp(str1, str2, dp)\n",
    "    \n",
    "    return dp[len(str1)][len(str2)]\n",
    "\n",
    "str1, str2 = 'SNOWY', 'SUNNY'\n",
    "\n",
    "print(f\"Minimum Edit Distance: {med(str1, str2)}\")"
   ]
  },
  {
   "cell_type": "markdown",
   "id": "fewer-involvement",
   "metadata": {
    "heading_collapsed": "true"
   },
   "source": [
    "### Complexity"
   ]
  },
  {
   "cell_type": "markdown",
   "id": "equal-detroit",
   "metadata": {
    "hidden": true
   },
   "source": [
    "Runtime:  \n",
    "$O(m*n)$, where `m` is the length of `str1` and `n` is the length of `str2`.\n",
    "\n",
    "Space:  \n",
    "$O(m*n)$ with memoization of naive bottom-up DP.  \n",
    "$O(min(m,n))$ with optimized bottom-up DP."
   ]
  },
  {
   "cell_type": "markdown",
   "id": "subtle-specialist",
   "metadata": {
    "heading_collapsed": "true",
    "toc-hr-collapsed": true
   },
   "source": [
    "## 0/1 Knapsack"
   ]
  },
  {
   "cell_type": "markdown",
   "id": "terminal-premises",
   "metadata": {},
   "source": [
    "Given weights and values of `n` items, put these items in a knapsack of capacity `C` to get the maximum total value in the knapsack. \n",
    "\n",
    "In other words, given two integer arrays `val[0..n-1]` and `w[0..n-1]`, which represent values and weights associated with n items respectively, and given an integer `C`, which represents knapsack capacity, find out the maximum value subset of `val[]` such that sum of the weights of this subset is smaller than or equal to `C`. \n",
    "\n",
    "You cannot break an item, either pick the complete item or don’t pick it (0-1 property)."
   ]
  },
  {
   "cell_type": "code",
   "execution_count": 6,
   "id": "productive-athens",
   "metadata": {},
   "outputs": [
    {
     "name": "stdout",
     "output_type": "stream",
     "text": [
      "Maximum value for maximum weight 10: 0\n"
     ]
    }
   ],
   "source": [
    "def ks01(C: int, val: List[int], w: List[int]) -> int:\n",
    "    return 0\n",
    "\n",
    "C = 10\n",
    "val = [30, 14, 16, 9]\n",
    "w = [6, 3, 4, 2]\n",
    "\n",
    "\n",
    "print(f\"Maximum value for maximum weight {C}: {ks01(C, val, w)}\")"
   ]
  },
  {
   "cell_type": "markdown",
   "id": "premium-present",
   "metadata": {
    "heading_collapsed": "true"
   },
   "source": [
    "### Recurrence Relation"
   ]
  },
  {
   "cell_type": "markdown",
   "id": "acknowledged-express",
   "metadata": {
    "hidden": true
   },
   "source": [
    "$f(i,j)$ is the maximum value we can get with items `0...i` and maximum weight of `j`.\n",
    "\n",
    "$\n",
    "\\begin{align}\n",
    "f(i, j) = \n",
    "\\begin{cases}\n",
    "0, \\text{ if } i < 0 \\text{ or } j < 0 \\\\\n",
    "f(i-1, j), \\text{ if } j < w_i \\\\\n",
    "max\\left[ val_i + f(i-1, j - wt_i), f(i-1, j) \\right], else\n",
    "\\end{cases}\n",
    "\\end{align}\n",
    "$\n",
    "\n",
    "$f(i-1, j)$ corresponds to not taking item `i`.  \n",
    "$val_i + f(i-1, j - wt_i)$ corresponds to taking item `i`.\n",
    "\n",
    "\n",
    "Goal: $f(len(val)-1, C)$\n",
    "\n"
   ]
  },
  {
   "cell_type": "markdown",
   "id": "recognized-donor",
   "metadata": {
    "heading_collapsed": "true"
   },
   "source": [
    "### Code"
   ]
  },
  {
   "cell_type": "markdown",
   "id": "excessive-genius",
   "metadata": {
    "heading_collapsed": "true"
   },
   "source": [
    "#### Memoization"
   ]
  },
  {
   "cell_type": "code",
   "execution_count": 7,
   "id": "quick-imagination",
   "metadata": {
    "hidden": true
   },
   "outputs": [
    {
     "name": "stdout",
     "output_type": "stream",
     "text": [
      "Maximum value for maximum weight 10: 46\n"
     ]
    }
   ],
   "source": [
    "def ks01(C: int, val: List[int], w: List[int]) -> int:\n",
    "    mem = {}\n",
    "\n",
    "    def f(i: int, j: int) -> int:\n",
    "        if i < 0 or j <= 0:\n",
    "            return 0\n",
    "\n",
    "        nonlocal val, w, mem\n",
    "\n",
    "        if (i, j) not in mem:\n",
    "            \n",
    "            mem[(i,j)] = f(i-1,j)\n",
    "            \n",
    "            if j >= w[i]:\n",
    "                mem[(i,j)] = max(mem[(i,j)], val[i] + f(i-1, j-w[i]))\n",
    " \n",
    "\n",
    "        return mem[(i,j)]\n",
    "\n",
    "    return f(len(val)-1, C)\n",
    "    \n",
    "\n",
    "C = 10\n",
    "val = [30, 14, 16, 9]\n",
    "w = [6, 3, 4, 2]\n",
    "\n",
    "\n",
    "print(f\"Maximum value for maximum weight {C}: {ks01(C, val, w)}\")"
   ]
  },
  {
   "cell_type": "markdown",
   "id": "homeless-millennium",
   "metadata": {
    "heading_collapsed": "true"
   },
   "source": [
    "#### Bottom-up DP"
   ]
  },
  {
   "cell_type": "code",
   "execution_count": 4,
   "id": "electronic-sandwich",
   "metadata": {},
   "outputs": [
    {
     "name": "stdout",
     "output_type": "stream",
     "text": [
      "Maximum value for maximum weight 10: 46\n"
     ]
    }
   ],
   "source": [
    "def ks01(C: int, val: List[int], w: List[int]) -> int:\n",
    "    \n",
    "    prev = [0 for i in range(C+1)]\n",
    "    curr = [0 for i in range(C+1)]\n",
    "    \n",
    "    for i in range(len(val)):\n",
    "        for j in range(C+1):\n",
    "            if w[i] <= j:\n",
    "                curr[j] = max(prev[j], val[i] + prev[j - w[i]])\n",
    "        prev = curr\n",
    "        curr = [0 for i in range(C+1)]\n",
    "\n",
    "    return prev[-1]\n",
    "    \n",
    "\n",
    "C = 10\n",
    "val = [30, 14, 16, 9]\n",
    "w = [6, 3, 4, 2]\n",
    "\n",
    "\n",
    "print(f\"Maximum value for maximum weight {C}: {ks01(C, val, w)}\")"
   ]
  },
  {
   "cell_type": "markdown",
   "id": "extreme-defendant",
   "metadata": {
    "heading_collapsed": "true"
   },
   "source": [
    "### Complexity"
   ]
  },
  {
   "cell_type": "markdown",
   "id": "headed-publicity",
   "metadata": {
    "hidden": true
   },
   "source": [
    "Runtime:   \n",
    "$O(C*n)$, where C is the capacity and n the number of items to choose from.  \n",
    "Note that this is linearity is only a pseudo-polynomial runtime, since it is dependent on the value of C and not the size of the input.\n",
    "\n",
    "Space:  \n",
    "Memoization: $O(C*n)$  \n",
    "Bottom up: $O(min(C,n))$"
   ]
  },
  {
   "cell_type": "code",
   "execution_count": null,
   "id": "consolidated-evening",
   "metadata": {},
   "outputs": [],
   "source": []
  }
 ],
 "metadata": {
  "kernelspec": {
   "display_name": "Python 3",
   "language": "python",
   "name": "python3"
  },
  "language_info": {
   "codemirror_mode": {
    "name": "ipython",
    "version": 3
   },
   "file_extension": ".py",
   "mimetype": "text/x-python",
   "name": "python",
   "nbconvert_exporter": "python",
   "pygments_lexer": "ipython3",
   "version": "3.7.10"
  },
  "toc-autonumbering": false,
  "toc-showcode": true,
  "toc-showmarkdowntxt": true
 },
 "nbformat": 4,
 "nbformat_minor": 5
}
